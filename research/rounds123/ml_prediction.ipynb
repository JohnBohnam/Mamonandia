{
 "cells": [
  {
   "cell_type": "code",
   "execution_count": 2,
   "metadata": {},
   "outputs": [],
   "source": [
    "import pandas as pd\n",
    "import matplotlib.pyplot as plt\n",
    "import numpy as np\n",
    "\n",
    "path = \"../backtest/new_data/prices_round_1_day_0.csv\"\n",
    "\n",
    "df = pd.read_csv(path, delimiter=';')\n",
    "df_a = df[df['product'] == 'AMETHYSTS']\n",
    "df_s = df[df['product'] == 'STARFRUIT']\n",
    "\n",
    "df_s.head()\n",
    "\n",
    "# pairs price, timestamp\n",
    "s_bid = df_s[['bid_price_1', 'timestamp']]\n",
    "s_ask = df_s[['ask_price_1', 'timestamp']]\n"
   ]
  },
  {
   "cell_type": "code",
   "execution_count": 3,
   "metadata": {},
   "outputs": [
    {
     "name": "stdout",
     "output_type": "stream",
     "text": [
      "1122\n",
      "0.1122\n",
      "1100\n",
      "0.11\n"
     ]
    }
   ],
   "source": [
    "n_forward = 20\n",
    "\n",
    "# mark as good these bids that could be sold later\n",
    "\n",
    "margin = 1\n",
    "\n",
    "good_bids = []\n",
    "for t in range(len(s_bid)-n_forward):\n",
    "    for forw in range(1, n_forward):\n",
    "        if s_bid['bid_price_1'].values[t] > s_ask['ask_price_1'].values[t+forw]+ margin:\n",
    "            # print(f'sell at {s_bid[\"bid_price_1\"].values[t]}, time {s_bid[\"timestamp\"].values[t]}')\n",
    "            # print(f'buy at {s_ask[\"ask_price_1\"].values[t+forw]}, time {s_ask[\"timestamp\"].values[t+forw]} (+{forw})')\n",
    "            good_bids.append(s_bid['timestamp'].values[t])\n",
    "            break\n",
    "           \n",
    "print(len(good_bids))\n",
    "print(len(good_bids) / len(s_bid))\n",
    "\n",
    "good_asks = []\n",
    "for t in range(len(s_ask)-n_forward):\n",
    "    for forw in range(1, n_forward):\n",
    "        if s_ask['ask_price_1'].values[t] < s_bid['bid_price_1'].values[t+forw] - margin:\n",
    "            # print(f'buy at {s_ask[\"ask_price_1\"].values[t]}, time {s_ask[\"timestamp\"].values[t]}')\n",
    "            # print(f'sell at {s_bid[\"bid_price_1\"].values[t+forw]}, time {s_bid[\"timestamp\"].values[t+forw]} (+{forw})')\n",
    "            # print(\"---\")\n",
    "            good_asks.append(s_ask['timestamp'].values[t])\n",
    "            break\n",
    "            \n",
    "print(len(good_asks))\n",
    "print(len(good_asks) / len(s_ask))\n"
   ]
  },
  {
   "cell_type": "code",
   "execution_count": 5,
   "metadata": {},
   "outputs": [
    {
     "name": "stderr",
     "output_type": "stream",
     "text": [
      "/tmp/ipykernel_7024/1599113307.py:2: SettingWithCopyWarning: \n",
      "A value is trying to be set on a copy of a slice from a DataFrame.\n",
      "Try using .loc[row_indexer,col_indexer] = value instead\n",
      "\n",
      "See the caveats in the documentation: https://pandas.pydata.org/pandas-docs/stable/user_guide/indexing.html#returning-a-view-versus-a-copy\n",
      "  df_s['good_bid'] = df_s['timestamp'].apply(lambda x: x in good_bids)\n",
      "/tmp/ipykernel_7024/1599113307.py:3: SettingWithCopyWarning: \n",
      "A value is trying to be set on a copy of a slice from a DataFrame.\n",
      "Try using .loc[row_indexer,col_indexer] = value instead\n",
      "\n",
      "See the caveats in the documentation: https://pandas.pydata.org/pandas-docs/stable/user_guide/indexing.html#returning-a-view-versus-a-copy\n",
      "  df_s['good_ask'] = df_s['timestamp'].apply(lambda x: x in good_asks)\n"
     ]
    }
   ],
   "source": [
    "# now create a collumn in the dataframe that marks the good bids and asks\n",
    "df_s['good_bid'] = df_s['timestamp'].apply(lambda x: x in good_bids)\n",
    "df_s['good_ask'] = df_s['timestamp'].apply(lambda x: x in good_asks)"
   ]
  },
  {
   "cell_type": "code",
   "execution_count": 6,
   "metadata": {},
   "outputs": [],
   "source": [
    "df_s = df_s.fillna(0)"
   ]
  },
  {
   "cell_type": "code",
   "execution_count": 12,
   "metadata": {},
   "outputs": [
    {
     "name": "stdout",
     "output_type": "stream",
     "text": [
      "(9995, 30) (9995,) (9995,)\n"
     ]
    }
   ],
   "source": [
    "n_prev = 5\n",
    "# \n",
    "# colls_taken = ['bid_price_1', 'bid_volume_1', 'ask_price_1', 'ask_volume_1', 'bid_price_2', 'bid_volume_2', 'ask_price_2', 'ask_volume_2', 'bid_price_3', 'bid_volume_3',\n",
    "#                'ask_price_3', 'ask_volume_3']\n",
    "\n",
    "colls_taken = ['bid_price_1', 'bid_volume_1', 'ask_price_1', 'ask_volume_1', 'bid_volume_2', 'ask_volume_2']\n",
    "\n",
    "X = []\n",
    "Y_bid = df_s['good_bid'].values[n_prev:]\n",
    "Y_ask = df_s['good_ask'].values[n_prev:]\n",
    "\n",
    "for i in range(n_prev, len(df_s)):\n",
    "    X.append(df_s[colls_taken][i-n_prev:i])\n",
    "    \n",
    "X = np.array(X)\n",
    "X = X.reshape(X.shape[0], -1)\n",
    "Y_bid = np.array(Y_bid)\n",
    "Y_ask = np.array(Y_ask)\n",
    "\n",
    "print(X.shape, Y_bid.shape, Y_ask.shape)"
   ]
  },
  {
   "cell_type": "code",
   "execution_count": 13,
   "metadata": {},
   "outputs": [
    {
     "name": "stdout",
     "output_type": "stream",
     "text": [
      "<bound method Module.parameters of Sequential(\n",
      "  (0): BatchNorm1d(30, eps=1e-05, momentum=0.1, affine=True, track_running_stats=True)\n",
      "  (1): Linear(in_features=30, out_features=100, bias=True)\n",
      "  (2): BatchNorm1d(100, eps=1e-05, momentum=0.1, affine=True, track_running_stats=True)\n",
      "  (3): ReLU()\n",
      "  (4): Linear(in_features=100, out_features=1, bias=True)\n",
      "  (5): Sigmoid()\n",
      ")>\n"
     ]
    }
   ],
   "source": [
    "# create a NN model using torch\n",
    "\n",
    "import torch\n",
    "\n",
    "X = torch.tensor(X, dtype=torch.float32)\n",
    "Y_bid = torch.tensor(Y_bid, dtype=torch.float32)\n",
    "\n",
    "model_bid = torch.nn.Sequential(\n",
    "    torch.nn.BatchNorm1d(X.shape[1]),\n",
    "    torch.nn.Linear(X.shape[1], 100),\n",
    "    torch.nn.BatchNorm1d(100),\n",
    "    torch.nn.ReLU(),\n",
    "    torch.nn.Linear(100, 1),\n",
    "    # torch.nn.BatchNorm1d(1),\n",
    "    torch.nn.Sigmoid()\n",
    ")\n",
    "\n",
    "loss_fn = torch.nn.BCELoss()\n",
    "# loss_fn = torch.nn.MSELoss()\n",
    "\n",
    "print(model_bid.parameters)\n",
    "\n",
    "optimizer = torch.optim.Adam(model_bid.parameters(), lr=0.01)"
   ]
  },
  {
   "cell_type": "code",
   "execution_count": 14,
   "metadata": {},
   "outputs": [
    {
     "name": "stdout",
     "output_type": "stream",
     "text": [
      "0.18037161231040955\n",
      "0.18037161231040955\n",
      "0.18037161231040955\n",
      "0.18037161231040955\n",
      "0.18037161231040955\n",
      "0.18037161231040955\n",
      "0.18037161231040955\n",
      "0.18037161231040955\n",
      "0.18037161231040955\n",
      "0.18037161231040955\n"
     ]
    },
    {
     "data": {
      "text/plain": [
       "Sequential(\n",
       "  (0): BatchNorm1d(30, eps=1e-05, momentum=0.1, affine=True, track_running_stats=True)\n",
       "  (1): Linear(in_features=30, out_features=100, bias=True)\n",
       "  (2): BatchNorm1d(100, eps=1e-05, momentum=0.1, affine=True, track_running_stats=True)\n",
       "  (3): ReLU()\n",
       "  (4): Linear(in_features=100, out_features=1, bias=True)\n",
       "  (5): Sigmoid()\n",
       ")"
      ]
     },
     "execution_count": 14,
     "metadata": {},
     "output_type": "execute_result"
    }
   ],
   "source": [
    "for i in range(1000):\n",
    "    optimizer.zero_grad()\n",
    "    pred = model(X)\n",
    "    # print(pred.reshape(-1).shape)\n",
    "    # print(Y.shape)\n",
    "    loss = loss_fn(pred.reshape(-1), Y_bid)\n",
    "    loss.backward()\n",
    "    optimizer.step()\n",
    "    if i % 100 == 0:\n",
    "        print(loss.item())\n",
    "        \n",
    "model_bid.eval()"
   ]
  },
  {
   "cell_type": "code",
   "execution_count": 11,
   "metadata": {},
   "outputs": [
    {
     "data": {
      "image/png": "[encoded data removed]",
      "text/plain": [
       "<Figure size 640x480 with 1 Axes>"
      ]
     },
     "metadata": {},
     "output_type": "display_data"
    }
   ],
   "source": [
    "# get the roc curve\n",
    "from sklearn.metrics import roc_curve, roc_auc_score\n",
    "\n",
    "pred = model_bid(X).detach().numpy().reshape(-1)\n",
    "fpr, tpr, _ = roc_curve(Y_bid, pred)\n",
    "plt.plot(fpr, tpr)\n",
    "plt.show()"
   ]
  },
  {
   "cell_type": "code",
   "execution_count": 15,
   "metadata": {},
   "outputs": [],
   "source": [
    "# save the model\n",
    "\n",
    "torch.save(model_bid, 'model_bid.pt')"
   ]
  },
  {
   "cell_type": "code",
   "execution_count": 18,
   "metadata": {},
   "outputs": [
    {
     "name": "stdout",
     "output_type": "stream",
     "text": [
      "<bound method Module.parameters of Sequential(\n",
      "  (0): BatchNorm1d(30, eps=1e-05, momentum=0.1, affine=True, track_running_stats=True)\n",
      "  (1): Linear(in_features=30, out_features=100, bias=True)\n",
      "  (2): BatchNorm1d(100, eps=1e-05, momentum=0.1, affine=True, track_running_stats=True)\n",
      "  (3): ReLU()\n",
      "  (4): Linear(in_features=100, out_features=1, bias=True)\n",
      "  (5): Sigmoid()\n",
      ")>\n"
     ]
    },
    {
     "name": "stderr",
     "output_type": "stream",
     "text": [
      "/tmp/ipykernel_7024/2712900320.py:1: UserWarning: To copy construct from a tensor, it is recommended to use sourceTensor.clone().detach() or sourceTensor.clone().detach().requires_grad_(True), rather than torch.tensor(sourceTensor).\n",
      "  X = torch.tensor(X, dtype=torch.float32)\n",
      "/tmp/ipykernel_7024/2712900320.py:2: UserWarning: To copy construct from a tensor, it is recommended to use sourceTensor.clone().detach() or sourceTensor.clone().detach().requires_grad_(True), rather than torch.tensor(sourceTensor).\n",
      "  Y_ask = torch.tensor(Y_ask, dtype=torch.float32)\n"
     ]
    }
   ],
   "source": [
    "\n",
    "X = torch.tensor(X, dtype=torch.float32)\n",
    "Y_ask = torch.tensor(Y_ask, dtype=torch.float32)\n",
    "\n",
    "model_ask = torch.nn.Sequential(\n",
    "    torch.nn.BatchNorm1d(X.shape[1]),\n",
    "    torch.nn.Linear(X.shape[1], 100),\n",
    "    torch.nn.BatchNorm1d(100),\n",
    "    torch.nn.ReLU(),\n",
    "    torch.nn.Linear(100, 1),\n",
    "    # torch.nn.BatchNorm1d(1),\n",
    "    torch.nn.Sigmoid()\n",
    ")\n",
    "\n",
    "loss_fn = torch.nn.BCELoss()\n",
    "# loss_fn = torch.nn.MSELoss()\n",
    "\n",
    "print(model_ask.parameters)\n",
    "\n",
    "optimizer = torch.optim.Adam(model_ask.parameters(), lr=0.01)\n",
    "    "
   ]
  },
  {
   "cell_type": "code",
   "execution_count": 20,
   "metadata": {},
   "outputs": [
    {
     "name": "stdout",
     "output_type": "stream",
     "text": [
      "0.6341652274131775\n",
      "0.33131134510040283\n",
      "0.3073897659778595\n",
      "0.2759629189968109\n",
      "0.2464950680732727\n",
      "0.22188618779182434\n",
      "0.26047366857528687\n",
      "0.2015402913093567\n",
      "0.18907779455184937\n",
      "0.17938373982906342\n"
     ]
    },
    {
     "data": {
      "text/plain": [
       "Sequential(\n",
       "  (0): BatchNorm1d(30, eps=1e-05, momentum=0.1, affine=True, track_running_stats=True)\n",
       "  (1): Linear(in_features=30, out_features=100, bias=True)\n",
       "  (2): BatchNorm1d(100, eps=1e-05, momentum=0.1, affine=True, track_running_stats=True)\n",
       "  (3): ReLU()\n",
       "  (4): Linear(in_features=100, out_features=1, bias=True)\n",
       "  (5): Sigmoid()\n",
       ")"
      ]
     },
     "execution_count": 20,
     "metadata": {},
     "output_type": "execute_result"
    }
   ],
   "source": [
    "for i in range(1000):\n",
    "    optimizer.zero_grad()\n",
    "    pred = model_ask(X)\n",
    "    # print(pred.reshape(-1).shape)\n",
    "    # print(Y.shape)\n",
    "    loss = loss_fn(pred.reshape(-1), Y_ask)\n",
    "    loss.backward()\n",
    "    optimizer.step()\n",
    "    if i % 100 == 0:\n",
    "        print(loss.item())\n",
    "        \n",
    "model_ask.eval()"
   ]
  },
  {
   "cell_type": "code",
   "execution_count": 21,
   "metadata": {},
   "outputs": [
    {
     "data": {
      "image/png": "[encoded data removed]",
      "text/plain": [
       "<Figure size 640x480 with 1 Axes>"
      ]
     },
     "metadata": {},
     "output_type": "display_data"
    },
    {
     "name": "stdout",
     "output_type": "stream",
     "text": [
      "0.949988208393573\n"
     ]
    }
   ],
   "source": [
    "# get the roc curve\n",
    "\n",
    "pred = model_ask(X).detach().numpy().reshape(-1)\n",
    "\n",
    "fpr, tpr, _ = roc_curve(Y_ask, pred)\n",
    "plt.plot(fpr, tpr)\n",
    "plt.show()\n",
    "\n",
    "# roc auc score\n",
    "print(roc_auc_score(Y_ask, pred))\n",
    "\n",
    "# save the model\n",
    "\n",
    "torch.save(model_ask, 'model_ask.pt')"
   ]
  }
 ],
 "metadata": {
  "kernelspec": {
   "display_name": "ml",
   "language": "python",
   "name": "python3"
  },
  "language_info": {
   "codemirror_mode": {
    "name": "ipython",
    "version": 3
   },
   "file_extension": ".py",
   "mimetype": "text/x-python",
   "name": "python",
   "nbconvert_exporter": "python",
   "pygments_lexer": "ipython3",
   "version": "3.10.13"
  }
 },
 "nbformat": 4,
 "nbformat_minor": 2
}
